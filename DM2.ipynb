{
 "cells": [
  {
   "cell_type": "code",
   "execution_count": 11,
   "id": "8d8530c7",
   "metadata": {},
   "outputs": [
    {
     "name": "stdout",
     "output_type": "stream",
     "text": [
      "        0      1      2                                3            4\n",
      "0       A   1287      1          International AutoRoute   /autoroute\n",
      "1       A   1288      1                          library     /library\n",
      "2       A   1289      1  Master Chef Product Information  /masterchef\n",
      "3       A   1297      1                  Central America    /centroam\n",
      "4       A   1215      1         For Developers Only Info   /developer\n",
      "...    ..    ...    ...                              ...          ...\n",
      "131654  V   1035      1                              NaN          NaN\n",
      "131655  V   1001      1                              NaN          NaN\n",
      "131656  V   1018      1                              NaN          NaN\n",
      "131657  C  42711  42711                              NaN          NaN\n",
      "131658  V   1008      1                              NaN          NaN\n",
      "\n",
      "[131659 rows x 5 columns]\n"
     ]
    },
    {
     "name": "stderr",
     "output_type": "stream",
     "text": [
      "/var/folders/r1/m1k3791j6y7598kjmrl0fslr0000gn/T/ipykernel_98249/3061785650.py:3: DtypeWarning: Columns (3,4) have mixed types. Specify dtype option on import or set low_memory=False.\n",
      "  data = pd.read_csv(path,  header=None)\n"
     ]
    }
   ],
   "source": [
    "import pandas as pd\n",
    "path = '/Users/zhangpuchang/Downloads/anonymous-msweb.data'\n",
    "data = pd.read_csv(path,  header=None)\n",
    "print(data)"
   ]
  },
  {
   "cell_type": "code",
   "execution_count": 10,
   "id": "f43c7d25",
   "metadata": {},
   "outputs": [
    {
     "data": {
      "text/html": [
       "<div>\n",
       "<style scoped>\n",
       "    .dataframe tbody tr th:only-of-type {\n",
       "        vertical-align: middle;\n",
       "    }\n",
       "\n",
       "    .dataframe tbody tr th {\n",
       "        vertical-align: top;\n",
       "    }\n",
       "\n",
       "    .dataframe thead th {\n",
       "        text-align: right;\n",
       "    }\n",
       "</style>\n",
       "<table border=\"1\" class=\"dataframe\">\n",
       "  <thead>\n",
       "    <tr style=\"text-align: right;\">\n",
       "      <th></th>\n",
       "      <th>0</th>\n",
       "      <th>1</th>\n",
       "      <th>2</th>\n",
       "      <th>3</th>\n",
       "      <th>4</th>\n",
       "    </tr>\n",
       "  </thead>\n",
       "  <tbody>\n",
       "    <tr>\n",
       "      <th>0</th>\n",
       "      <td>A</td>\n",
       "      <td>1287</td>\n",
       "      <td>1</td>\n",
       "      <td>International AutoRoute</td>\n",
       "      <td>/autoroute</td>\n",
       "    </tr>\n",
       "    <tr>\n",
       "      <th>1</th>\n",
       "      <td>A</td>\n",
       "      <td>1288</td>\n",
       "      <td>1</td>\n",
       "      <td>library</td>\n",
       "      <td>/library</td>\n",
       "    </tr>\n",
       "    <tr>\n",
       "      <th>2</th>\n",
       "      <td>A</td>\n",
       "      <td>1289</td>\n",
       "      <td>1</td>\n",
       "      <td>Master Chef Product Information</td>\n",
       "      <td>/masterchef</td>\n",
       "    </tr>\n",
       "    <tr>\n",
       "      <th>3</th>\n",
       "      <td>A</td>\n",
       "      <td>1297</td>\n",
       "      <td>1</td>\n",
       "      <td>Central America</td>\n",
       "      <td>/centroam</td>\n",
       "    </tr>\n",
       "    <tr>\n",
       "      <th>4</th>\n",
       "      <td>A</td>\n",
       "      <td>1215</td>\n",
       "      <td>1</td>\n",
       "      <td>For Developers Only Info</td>\n",
       "      <td>/developer</td>\n",
       "    </tr>\n",
       "  </tbody>\n",
       "</table>\n",
       "</div>"
      ],
      "text/plain": [
       "   0     1  2                                3            4\n",
       "0  A  1287  1          International AutoRoute   /autoroute\n",
       "1  A  1288  1                          library     /library\n",
       "2  A  1289  1  Master Chef Product Information  /masterchef\n",
       "3  A  1297  1                  Central America    /centroam\n",
       "4  A  1215  1         For Developers Only Info   /developer"
      ]
     },
     "execution_count": 10,
     "metadata": {},
     "output_type": "execute_result"
    }
   ],
   "source": [
    "data.head()"
   ]
  },
  {
   "cell_type": "code",
   "execution_count": 25,
   "id": "ba3f7ec2",
   "metadata": {},
   "outputs": [
    {
     "name": "stdout",
     "output_type": "stream",
     "text": [
      "        0      1      2    3    4\n",
      "294     C  10001  10001  NaN  NaN\n",
      "295     V   1000      1  NaN  NaN\n",
      "296     V   1001      1  NaN  NaN\n",
      "297     V   1002      1  NaN  NaN\n",
      "298     C  10002  10002  NaN  NaN\n",
      "...    ..    ...    ...  ...  ...\n",
      "131654  V   1035      1  NaN  NaN\n",
      "131655  V   1001      1  NaN  NaN\n",
      "131656  V   1018      1  NaN  NaN\n",
      "131657  C  42711  42711  NaN  NaN\n",
      "131658  V   1008      1  NaN  NaN\n",
      "\n",
      "[131365 rows x 5 columns]\n"
     ]
    }
   ],
   "source": [
    "#1.数据处理与预处理\n",
    "attr = data[data[0] == 'A']  # 属性行\n",
    "case = data[data[0] != 'A']  # 案例行\n",
    "print(case)"
   ]
  },
  {
   "cell_type": "code",
   "execution_count": 26,
   "id": "7bf91a1a",
   "metadata": {},
   "outputs": [
    {
     "name": "stdout",
     "output_type": "stream",
     "text": [
      "     0     1  2                                3            4\n",
      "0    A  1287  1          International AutoRoute   /autoroute\n",
      "1    A  1288  1                          library     /library\n",
      "2    A  1289  1  Master Chef Product Information  /masterchef\n",
      "3    A  1297  1                  Central America    /centroam\n",
      "4    A  1215  1         For Developers Only Info   /developer\n",
      "..  ..   ... ..                              ...          ...\n",
      "289  A  1219  1    Corporate Advertising Content         /ads\n",
      "290  A  1030  1                Windows NT Server    /ntserver\n",
      "291  A  1182  1                          Fortran     /fortran\n",
      "292  A  1100  1                  MS in Education   /education\n",
      "293  A  1210  1                      SNA Support  /snasupport\n",
      "\n",
      "[294 rows x 5 columns]\n"
     ]
    }
   ],
   "source": [
    "#缺失值处理\n",
    "attr = attr.dropna()\n",
    "print(attr)"
   ]
  },
  {
   "cell_type": "code",
   "execution_count": 28,
   "id": "4b794387",
   "metadata": {},
   "outputs": [
    {
     "name": "stdout",
     "output_type": "stream",
     "text": [
      "        0      1      2\n",
      "294     C  10001  10001\n",
      "295     V   1000      1\n",
      "296     V   1001      1\n",
      "297     V   1002      1\n",
      "298     C  10002  10002\n",
      "...    ..    ...    ...\n",
      "131654  V   1035      1\n",
      "131655  V   1001      1\n",
      "131656  V   1018      1\n",
      "131657  C  42711  42711\n",
      "131658  V   1008      1\n",
      "\n",
      "[131365 rows x 3 columns]\n"
     ]
    }
   ],
   "source": [
    "case = case.drop(columns=[3, 4])\n",
    "print(case)"
   ]
  },
  {
   "cell_type": "code",
   "execution_count": 30,
   "id": "b04e2027",
   "metadata": {},
   "outputs": [
    {
     "name": "stdout",
     "output_type": "stream",
     "text": [
      "        0      1      2\n",
      "294     C  10001  10001\n",
      "295     V   1000      1\n",
      "296     V   1001      1\n",
      "297     V   1002      1\n",
      "298     C  10002  10002\n",
      "...    ..    ...    ...\n",
      "131654  V   1035      1\n",
      "131655  V   1001      1\n",
      "131656  V   1018      1\n",
      "131657  C  42711  42711\n",
      "131658  V   1008      1\n",
      "\n",
      "[131365 rows x 3 columns]\n"
     ]
    }
   ],
   "source": [
    "case = case.dropna()\n",
    "print(case)"
   ]
  },
  {
   "cell_type": "code",
   "execution_count": 31,
   "id": "b390f8ac",
   "metadata": {},
   "outputs": [],
   "source": [
    "tmp = {x[1]:x[3] for _,x in attr.iterrows()}\n",
    "cases = []\n",
    "votes = []\n",
    "vote_tmp = []\n",
    "case_tmp = 0\n",
    "for i, line in case.iterrows():\n",
    "    if line[0]=='C':\n",
    "        if len(vote_tmp)!=0:\n",
    "            votes.append(vote_tmp)\n",
    "            cases.append(case_tmp)\n",
    "        vote_tmp = []\n",
    "        case_tmp = line[1]\n",
    "    else:\n",
    "        vote_tmp.append(tmp[line[1]])\n",
    "votes.append(vote_tmp)\n",
    "cases.append(case_tmp)"
   ]
  },
  {
   "cell_type": "code",
   "execution_count": 34,
   "id": "450f065a",
   "metadata": {},
   "outputs": [
    {
     "name": "stdout",
     "output_type": "stream",
     "text": [
      "Free Downloads: 10836\n",
      "Internet Explorer: 9383\n",
      "Microsoft.com Search: 8463\n",
      "isapi: 5330\n",
      "Products : 5108\n"
     ]
    }
   ],
   "source": [
    "#2.频繁模式挖掘；\n",
    "#找出频次最高的十个\n",
    "from collections import Counter\n",
    "counter = Counter()\n",
    "for i in votes:\n",
    "    counter.update(i)\n",
    "result = counter.most_common(5)\n",
    "for value, count in result:\n",
    "    print(f\"{value}: {count}\")"
   ]
  },
  {
   "cell_type": "code",
   "execution_count": 36,
   "id": "7da93d75",
   "metadata": {},
   "outputs": [
    {
     "data": {
      "image/png": "[encoded data removed]",
      "text/plain": [
       "<Figure size 640x480 with 1 Axes>"
      ]
     },
     "metadata": {},
     "output_type": "display_data"
    }
   ],
   "source": [
    "#可视化结果\n",
    "import matplotlib.pyplot as plt\n",
    "plt.bar(counter.keys(), counter.values())\n",
    "plt.show()"
   ]
  },
  {
   "cell_type": "code",
   "execution_count": 43,
   "id": "239c6b10",
   "metadata": {},
   "outputs": [],
   "source": [
    "# 3. 关联规则挖掘\n",
    "#使用association_rules方法，导出关联规则，同时获得支持度及置信度\n",
    "from mlxtend.preprocessing import TransactionEncoder\n",
    "from mlxtend.frequent_patterns import apriori, association_rules\n",
    "tmp = TransactionEncoder()\n",
    "tmp_array = tmp.fit_transform(votes)\n",
    "df = pd.DataFrame(tmp_array, columns=tmp.columns_)\n",
    "frequent_itemsets = apriori(df, min_support=0.06, use_colnames=True)\n",
    "min_threshold = 0.4  \n",
    "association_results = association_rules(frequent_itemsets, metric=\"confidence\", min_threshold=min_threshold)\n"
   ]
  },
  {
   "cell_type": "code",
   "execution_count": 49,
   "id": "7b66bf62",
   "metadata": {},
   "outputs": [
    {
     "name": "stdout",
     "output_type": "stream",
     "text": [
      "('Internet Explorer',) ⇒ ('Free Downloads',) (suupport = 0.160802, confidence = 0.560588 )\n",
      "('Free Downloads',) ⇒ ('Internet Explorer',) (suupport = 0.160802, confidence = 0.485419 )\n",
      "('Windows Family of OSs',) ⇒ ('Free Downloads',) (suupport = 0.077925, confidence = 0.550778 )\n",
      "('isapi',) ⇒ ('Free Downloads',) (suupport = 0.073064, confidence = 0.448405 )\n",
      "               antecedents          consequents   support  confidence  \\\n",
      "0      (Internet Explorer)     (Free Downloads)  0.160802    0.560588   \n",
      "1         (Free Downloads)  (Internet Explorer)  0.160802    0.485419   \n",
      "2  (Windows Family of OSs)     (Free Downloads)  0.077925    0.550778   \n",
      "3                  (isapi)     (Free Downloads)  0.073064    0.448405   \n",
      "\n",
      "       lift  \n",
      "0  1.692267  \n",
      "1  1.692267  \n",
      "2  1.662652  \n",
      "3  1.353616  \n"
     ]
    }
   ],
   "source": [
    "# 4. 结果评估\n",
    "# 打印关联规则的支持度、置信度和提升度\n",
    "input = ['antecedents', 'consequents', 'support', 'confidence', 'lift']\n",
    "association_results = association_results[input]\n",
    "for index, row in association_results.iterrows():\n",
    "    #print(row)\n",
    "    antecedents = tuple(row['antecedents'])\n",
    "    consequents = tuple(row['consequents'])\n",
    "    print(\"%s ⇒ %s (suupport = %f, confidence = %f )\" % (antecedents, consequents, \\\n",
    "          row['support'], row['confidence']))\n",
    "print(association_results)"
   ]
  },
  {
   "cell_type": "code",
   "execution_count": null,
   "id": "b9bfa3f4",
   "metadata": {},
   "outputs": [],
   "source": [
    "#5 结果分析\n",
    "1. Internet Explorer 与 Free Downloads强相关\n",
    "2. Windows Family of OSs 与 Free Downloads 强相关"
   ]
  },
  {
   "cell_type": "code",
   "execution_count": 52,
   "id": "d9ffd59f",
   "metadata": {},
   "outputs": [
    {
     "data": {
      "image/png": "[encoded data removed]",
      "text/plain": [
       "<Figure size 640x480 with 1 Axes>"
      ]
     },
     "metadata": {},
     "output_type": "display_data"
    }
   ],
   "source": [
    "\n",
    "#6.可视化展示\n",
    "plt.xlabel('support')\n",
    "plt.ylabel('confidence')\n",
    "for i in range(association_results.shape[0]):\n",
    "    plt.scatter(association_results.support[i],association_results.confidence[i],c='r')"
   ]
  }
 ],
 "metadata": {
  "kernelspec": {
   "display_name": "Python 3 (ipykernel)",
   "language": "python",
   "name": "python3"
  },
  "language_info": {
   "codemirror_mode": {
    "name": "ipython",
    "version": 3
   },
   "file_extension": ".py",
   "mimetype": "text/x-python",
   "name": "python",
   "nbconvert_exporter": "python",
   "pygments_lexer": "ipython3",
   "version": "3.10.9"
  }
 },
 "nbformat": 4,
 "nbformat_minor": 5
}
